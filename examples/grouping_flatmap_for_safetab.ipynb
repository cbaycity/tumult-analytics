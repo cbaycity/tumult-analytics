{
 "cells": [
  {
   "cell_type": "markdown",
   "id": "2658cfe7",
   "metadata": {},
   "source": [
    "# Using the Grouping FlatMap in Safetab"
   ]
  },
  {
   "cell_type": "markdown",
   "id": "4a63562e",
   "metadata": {},
   "source": [
    "### Import Libraries"
   ]
  },
  {
   "cell_type": "code",
   "execution_count": null,
   "id": "0362c437",
   "metadata": {},
   "outputs": [],
   "source": [
    "from pyspark.sql import SparkSession\n",
    "import pandas as pd\n",
    "\n",
    "from tmlt.analytics.privacy_budget import PureDPBudget\n",
    "from tmlt.analytics.session import Session\n",
    "from tmlt.analytics.query_builder import QueryBuilder"
   ]
  },
  {
   "cell_type": "markdown",
   "id": "3b3780bb",
   "metadata": {},
   "source": [
    "### Load Data and Set Up the Session\n",
    "\n",
    "This example uses a dummy dataset with QRACE and REGION to help illustrate a Safetab-like example. Here a session is set up with this dummy dataset. Then, a dataframe that maps iteration codes to detailed_only=True and detailed_only=False (like in safetab) is added as a public data source."
   ]
  },
  {
   "cell_type": "code",
   "execution_count": null,
   "id": "ba0908d9",
   "metadata": {},
   "outputs": [],
   "source": [
    "spark = SparkSession.builder.getOrCreate()\n",
    "\n",
    "# Set up private df.\n",
    "sdf = spark.createDataFrame(\n",
    "    pd.DataFrame(\n",
    "        [[\"1\", \"01\"], [\"2\", \"02\"], [\"3\", \"03\"], [\"4\", \"04\"]], columns=[\"QRACE\", \"REGION\"]\n",
    "    )\n",
    ")\n",
    "\n",
    "# Set up Session\n",
    "budget = PureDPBudget(10)\n",
    "session = Session.from_dataframe(\n",
    "    privacy_budget=budget,\n",
    "    source_id=\"private\",\n",
    "    dataframe=sdf\n",
    ")\n",
    "\n",
    "# For Safetab -- Set up detailed-only public df\n",
    "detailed_only_df = spark.createDataFrame(\n",
    "    pd.DataFrame(\n",
    "       [[\"1\", \"True\"], [\"2\", \"False\"], [\"3\", \"True\"], [\"4\", \"False\"]], columns=[\"ITERATION_CODE\", \"DETAILED_ONLY\"]\n",
    "    )\n",
    ")\n",
    "session.add_public_dataframe(\"detail\", detailed_only_df)"
   ]
  },
  {
   "cell_type": "markdown",
   "id": "866ccedc",
   "metadata": {},
   "source": [
    "### Grouping FlatMap"
   ]
  },
  {
   "cell_type": "markdown",
   "id": "e1ff48d6",
   "metadata": {},
   "source": [
    "The iteration code flatmap is built by mapping QRACE codes to iteration codes. Here the argument \"grouping\" is set to True. This requires that any groupby aggregation on this query includes ITERATION_CODE (the new column) as a groupby column. \n",
    "\n",
    "Since a view is then created, the required grouping column is passed to the view and continues to be required on any query off of this view."
   ]
  },
  {
   "cell_type": "code",
   "execution_count": null,
   "id": "5f05d1c8",
   "metadata": {},
   "outputs": [],
   "source": [
    "race_mapping = {\"1\": [\"1\", \"2\"], \"2\": [\"2\", \"3\"], \"3\": [\"3\", \"4\"], \"4\": [\"4\"]}\n",
    "iteration_code_flatmap = QueryBuilder(\"private\").flat_map(\n",
    "    lambda x: [\n",
    "        {\"ITERATION_CODE\": iter_code} for iter_code in race_mapping[x[\"QRACE\"]]\n",
    "    ],\n",
    "    max_num_rows=2,\n",
    "    new_column_types={\"ITERATION_CODE\": \"VARCHAR\"},\n",
    "    augment=True,\n",
    "    grouping=True\n",
    ").join_public(\"detail\")\n",
    "\n",
    "# Create a view with the flatmap applied.\n",
    "session.create_view(iteration_code_flatmap, \"private_with_iteration\", cache=True)\n",
    "\n",
    "print(\"View Grouping Column:\", session.get_grouping_column(\"private_with_iteration\"))"
   ]
  },
  {
   "cell_type": "markdown",
   "id": "42f5bf0c",
   "metadata": {},
   "source": [
    "### Partition the Session into DetailedOnly and NonDetailedOnly"
   ]
  },
  {
   "cell_type": "markdown",
   "id": "c30f592a",
   "metadata": {},
   "source": [
    "When the view is partitioned into detailed_only and non_detailed_only sessions, the private sources of these sessions also retain the required grouping column."
   ]
  },
  {
   "cell_type": "code",
   "execution_count": null,
   "id": "e3457c89",
   "metadata": {},
   "outputs": [],
   "source": [
    "new_sessions = session.partition_and_create(\n",
    "    \"private_with_iteration\", \n",
    "    privacy_budget=budget, \n",
    "    attr_name=\"DETAILED_ONLY\", \n",
    "    splits = {\"detailed_only\": \"True\", \"non_detailed_only\": \"False\"}\n",
    ")\n",
    "\n",
    "detailed_session = new_sessions[\"detailed_only\"]\n",
    "non_detailed_session = new_sessions[\"non_detailed_only\"]\n",
    "\n",
    "print(\"Detailed Session Grouping Column:\", detailed_session.get_grouping_column(\"detailed_only\"))\n",
    "print(\"Non-detailed Session Grouping Column:\", non_detailed_session.get_grouping_column(\"non_detailed_only\"))"
   ]
  },
  {
   "cell_type": "markdown",
   "id": "f592465d",
   "metadata": {},
   "source": [
    "### Do the Detailed Only Query"
   ]
  },
  {
   "cell_type": "markdown",
   "id": "f79bfe5c",
   "metadata": {},
   "source": [
    "One of the queries in safetab is on the detailed_only table. Due to the grouping flatmap, this query requires that ITERATION_CODE is included as a groupby column. If ITERATION_CODE is not included, it will result in an error."
   ]
  },
  {
   "cell_type": "code",
   "execution_count": null,
   "id": "2566ade3",
   "metadata": {},
   "outputs": [],
   "source": [
    "detailed_only_query = (\n",
    "    QueryBuilder(\"detailed_only\")\n",
    "    .groupby_domains(\n",
    "        {\n",
    "            \"REGION\": [\"01\", \"02\", \"03\", \"04\"],\n",
    "            \"ITERATION_CODE\": [\"1\", \"2\", \"3\", \"4\"],\n",
    "        }\n",
    "    )\n",
    "    .count(name=\"COUNT\")\n",
    ")\n",
    "\n",
    "answer = detailed_session.evaluate(\n",
    "    query_expr=detailed_only_query, \n",
    "    privacy_budget=PureDPBudget(budget.epsilon/2)\n",
    ")\n",
    "\n",
    "answer.show()"
   ]
  }
 ],
 "metadata": {
  "kernelspec": {
   "display_name": "Python 3 (ipykernel)",
   "language": "python",
   "name": "python3"
  },
  "language_info": {
   "codemirror_mode": {
    "name": "ipython",
    "version": 3
   },
   "file_extension": ".py",
   "mimetype": "text/x-python",
   "name": "python",
   "nbconvert_exporter": "python",
   "pygments_lexer": "ipython3",
   "version": "3.7.6"
  }
 },
 "nbformat": 4,
 "nbformat_minor": 5
}
