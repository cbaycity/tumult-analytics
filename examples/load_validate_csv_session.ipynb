{
 "cells": [
  {
   "cell_type": "markdown",
   "metadata": {},
   "source": [
    "# Loading/validating input sources"
   ]
  },
  {
   "cell_type": "code",
   "execution_count": null,
   "metadata": {},
   "outputs": [],
   "source": [
    "import os\n",
    "import tempfile\n",
    "\n",
    "from tmlt.core.domains.base import OutOfDomainError\n",
    "\n",
    "from tmlt.analytics.query_builder import QueryBuilder, ColumnType\n",
    "from tmlt.analytics.privacy_budget import PureDPBudget\n",
    "from tmlt.analytics.session import Session"
   ]
  },
  {
   "cell_type": "code",
   "execution_count": null,
   "metadata": {},
   "outputs": [],
   "source": [
    "private_data = \"\"\"id,lat,lon,zone,remark\n",
    "1,2.1,3.2,001,xyz\n",
    "2,3.1,2.2,011,abc\n",
    "3,2.3,1.2,011,abc\"\"\"\n",
    "public_data = \"\"\"zone,name,area,alt\n",
    "001,z1,12.3,1.0\n",
    "010,z2,INVALID_VALUE,1230\n",
    "011,z3,451.1,\"\"\"\n",
    "tmp_dir = tempfile.mkdtemp()\n",
    "private_csv = os.path.join(tmp_dir, \"private.csv\")\n",
    "public_csv = os.path.join(tmp_dir, \"public.csv\")\n",
    "with open(private_csv, \"w\") as f:\n",
    "    f.write(private_data)\n",
    "with open(public_csv, \"w\") as f:\n",
    "    f.write(public_data)"
   ]
  },
  {
   "cell_type": "markdown",
   "metadata": {},
   "source": [
    "### Define a schema for the datasets"
   ]
  },
  {
   "cell_type": "code",
   "execution_count": null,
   "metadata": {},
   "outputs": [],
   "source": [
    "# These schemas do not have to contain all of the columns in the datasets.\n",
    "private_schema = {\n",
    "    \"id\": ColumnType.INTEGER,\n",
    "    \"lat\": ColumnType.DECIMAL,\n",
    "    \"lon\": ColumnType.DECIMAL,\n",
    "    \"zone\": ColumnType.VARCHAR,\n",
    "}\n",
    "public_schema = {\n",
    "    \"zone\": ColumnType.VARCHAR,\n",
    "    \"name\": ColumnType.VARCHAR,\n",
    "}"
   ]
  },
  {
   "cell_type": "markdown",
   "metadata": {},
   "source": [
    "### Create a session and add a public source"
   ]
  },
  {
   "cell_type": "code",
   "execution_count": null,
   "metadata": {},
   "outputs": [],
   "source": [
    "dp_session = Session.from_csv(\n",
    "    privacy_budget=PureDPBudget(float(\"inf\")),\n",
    "    source_id= \"private\",\n",
    "    path=private_csv,\n",
    "    schema=private_schema,\n",
    ")\n",
    "dp_session.add_public_csv(\n",
    "    source_id=\"public\",\n",
    "    path=public_csv,\n",
    "    schema=public_schema,\n",
    ")"
   ]
  },
  {
   "cell_type": "code",
   "execution_count": null,
   "metadata": {},
   "outputs": [],
   "source": [
    "print(\"PRIVATE SCHEMA:\", dp_session.get_schema(\"private\"))\n",
    "print(\"PUBLIC SCHEMA:\", dp_session.get_schema(\"public\"))"
   ]
  },
  {
   "cell_type": "code",
   "execution_count": null,
   "metadata": {},
   "outputs": [],
   "source": [
    "# View loaded public source\n",
    "dp_session.public_source_dataframes[\"public\"].show()"
   ]
  },
  {
   "cell_type": "code",
   "execution_count": null,
   "metadata": {},
   "outputs": [],
   "source": [
    "qb = QueryBuilder(\"private\")\n",
    "count_by_zone_name = qb.join_public(\"public\").groupby_domains({\"name\":[\"z1\", \"z2\", \"z3\"]}).count()"
   ]
  },
  {
   "cell_type": "code",
   "execution_count": null,
   "metadata": {},
   "outputs": [],
   "source": [
    "answer = dp_session.evaluate(count_by_zone_name, privacy_budget=PureDPBudget(float(\"inf\")))\n",
    "answer.show()"
   ]
  },
  {
   "cell_type": "markdown",
   "metadata": {},
   "source": [
    "### Errors with invalid inputs"
   ]
  },
  {
   "cell_type": "code",
   "execution_count": null,
   "metadata": {},
   "outputs": [],
   "source": [
    "# Bad schema -- non-existing column name\n",
    "private_schema_invalid_column = {\n",
    "    \"ID\": ColumnType.INTEGER,  # Suppose there is a typo in the schema\n",
    "    \"lat\": ColumnType.DECIMAL,\n",
    "    \"lon\": ColumnType.DECIMAL,\n",
    "    \"zone\": ColumnType.VARCHAR,\n",
    "}\n",
    "try:\n",
    "    Session.from_csv(\n",
    "        privacy_budget=PureDPBudget(float(\"inf\")),\n",
    "        source_id= \"private\",\n",
    "        path=private_csv,\n",
    "        schema=private_schema_invalid_column,\n",
    "    )\n",
    "except ValueError as e:\n",
    "    print(e)"
   ]
  },
  {
   "cell_type": "code",
   "execution_count": null,
   "metadata": {},
   "outputs": [],
   "source": [
    "# Column 'remark' contains strings.\n",
    "private_schema_mismatched_type = {\n",
    "    \"id\": ColumnType.INTEGER,\n",
    "    \"lat\": ColumnType.DECIMAL,\n",
    "    \"lon\": ColumnType.DECIMAL,\n",
    "    \"zone\": ColumnType.VARCHAR,\n",
    "    \"remark\": ColumnType.INTEGER,\n",
    "}\n",
    "try:\n",
    "    Session.from_csv(\n",
    "        privacy_budget=PureDPBudget(float(\"inf\")),\n",
    "        source_id= \"private\",\n",
    "        path=private_csv,\n",
    "        schema=private_schema_mismatched_type,\n",
    "    )\n",
    "except OutOfDomainError as e:\n",
    "    print(e)"
   ]
  },
  {
   "cell_type": "code",
   "execution_count": null,
   "metadata": {},
   "outputs": [],
   "source": [
    "# Column 'alt' in public contains a NULL\n",
    "public_schema_null_values = {\n",
    "    \"zone\": ColumnType.VARCHAR,\n",
    "    \"name\": ColumnType.VARCHAR,\n",
    "    \"alt\": ColumnType.VARCHAR,\n",
    "}\n",
    "try:\n",
    "    dp_session.add_public_csv(\n",
    "        source_id=\"public_2\",\n",
    "        path=public_csv,\n",
    "        schema=public_schema_null_values,\n",
    "    )\n",
    "except OutOfDomainError as e:\n",
    "    print(e)"
   ]
  }
 ],
 "metadata": {
  "kernelspec": {
   "display_name": "Python 3 (ipykernel)",
   "language": "python",
   "name": "python3"
  },
  "language_info": {
   "codemirror_mode": {
    "name": "ipython",
    "version": 3
   },
   "file_extension": ".py",
   "mimetype": "text/x-python",
   "name": "python",
   "nbconvert_exporter": "python",
   "pygments_lexer": "ipython3",
   "version": "3.7.11"
  }
 },
 "nbformat": 4,
 "nbformat_minor": 2
}
