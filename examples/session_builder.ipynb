{
 "cells": [
  {
   "cell_type": "markdown",
   "metadata": {},
   "source": [
    "# Using Session.Builder"
   ]
  },
  {
   "cell_type": "code",
   "execution_count": null,
   "metadata": {},
   "outputs": [],
   "source": [
    "import os\n",
    "import tempfile\n",
    "import shutil\n",
    "\n",
    "from pyspark.sql import SparkSession\n",
    "\n",
    "from tmlt.analytics.privacy_budget import RhoZCDPBudget\n",
    "from tmlt.analytics.session import Session\n",
    "from tmlt.analytics.query_builder import QueryBuilder\n"
   ]
  },
  {
   "cell_type": "markdown",
   "metadata": {},
   "source": [
    "### Setup data"
   ]
  },
  {
   "cell_type": "code",
   "execution_count": null,
   "metadata": {},
   "outputs": [],
   "source": [
    "spark = SparkSession.builder.getOrCreate()\n",
    "\n",
    "df1 = spark.createDataFrame(\n",
    "    [\n",
    "        (\"A\", 4),\n",
    "        (\"B\", 2),\n",
    "        (\"B\", 1),\n",
    "        (\"C\", 3),\n",
    "        (\"C\", 2),\n",
    "    ],\n",
    "    schema=[\"X\", \"P\"]\n",
    ")\n",
    "\n",
    "df2 = spark.createDataFrame(\n",
    "    [\n",
    "        (\"A\", 5),\n",
    "        (\"B\", 10),\n",
    "        (\"C\", 8),\n",
    "    ],\n",
    "    schema=[\"X\", \"Q\"]\n",
    ")\n",
    "\n",
    "csv1_content = \"\"\"X,R\n",
    "A,J\n",
    "A,K\n",
    "A,L\n",
    "B,M\n",
    "B,N\n",
    "C,O\"\"\"\n",
    "\n",
    "data_dir = tempfile.mkdtemp()\n",
    "csv1_path = os.path.join(data_dir, \"csv1.csv\")\n",
    "with open(csv1_path, \"w\") as f:\n",
    "    f.write(csv1_content)\n",
    "    f.flush()"
   ]
  },
  {
   "cell_type": "markdown",
   "metadata": {},
   "source": [
    "### Building Session with multiple private sources"
   ]
  },
  {
   "cell_type": "code",
   "execution_count": null,
   "metadata": {},
   "outputs": [],
   "source": [
    "session = ( \n",
    "    Session.Builder()\n",
    "    .with_privacy_budget(privacy_budget=RhoZCDPBudget(10))\n",
    "    .with_private_dataframe(source_id=\"DF1\", dataframe=df1, stability=1)\n",
    "    .with_private_dataframe(source_id=\"DF2\", dataframe=df2, stability=1)\n",
    "    .with_private_csv(source_id=\"CSV1\", path=csv1_path,schema={\"X\":\"VARCHAR\", \"R\":\"VARCHAR\"},stability=1)\n",
    "    .build()\n",
    ")"
   ]
  },
  {
   "cell_type": "markdown",
   "metadata": {},
   "source": [
    "### Construct and evaluate queries"
   ]
  },
  {
   "cell_type": "code",
   "execution_count": null,
   "metadata": {},
   "outputs": [],
   "source": [
    "df1_sum_P = (\n",
    "    QueryBuilder(\"DF1\")\n",
    "    .groupby_domains({\"X\":[\"A\", \"B\", \"C\"]})\n",
    "    .sum(column=\"P\", low=1, high=3)\n",
    ")\n",
    "\n",
    "df2_average_Q = (\n",
    "    QueryBuilder(source_id=\"DF2\")\n",
    "    .average(column=\"Q\", low=1, high=10)\n",
    ")\n",
    "\n",
    "csv1_count_R = (\n",
    "    QueryBuilder(source_id=\"CSV1\")\n",
    "    .count()\n",
    ")\n",
    "\n",
    "answers = []\n",
    "for query in [df1_sum_P, df2_average_Q, csv1_count_R]:\n",
    "    answers.append(session.evaluate(\n",
    "        query_expr=query,\n",
    "        privacy_budget=RhoZCDPBudget(10/3),\n",
    "    ))"
   ]
  },
  {
   "cell_type": "code",
   "execution_count": null,
   "metadata": {},
   "outputs": [],
   "source": [
    "for answer in answers:\n",
    "    answer.show()"
   ]
  },
  {
   "cell_type": "code",
   "execution_count": null,
   "metadata": {},
   "outputs": [],
   "source": [
    "# Clean up\n",
    "shutil.rmtree(data_dir)"
   ]
  }
 ],
 "metadata": {
  "kernelspec": {
   "display_name": "Python 3 (ipykernel)",
   "language": "python",
   "name": "python3"
  },
  "language_info": {
   "codemirror_mode": {
    "name": "ipython",
    "version": 3
   },
   "file_extension": ".py",
   "mimetype": "text/x-python",
   "name": "python",
   "nbconvert_exporter": "python",
   "pygments_lexer": "ipython3",
   "version": "3.7.6"
  }
 },
 "nbformat": 4,
 "nbformat_minor": 4
}
